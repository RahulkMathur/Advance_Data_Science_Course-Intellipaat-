{
  "nbformat": 4,
  "nbformat_minor": 0,
  "metadata": {
    "colab": {
      "provenance": [],
      "authorship_tag": "ABX9TyPg9HdHmGSuKdWYI0lilP3E",
      "include_colab_link": true
    },
    "kernelspec": {
      "name": "python3",
      "display_name": "Python 3"
    },
    "language_info": {
      "name": "python"
    }
  },
  "cells": [
    {
      "cell_type": "markdown",
      "metadata": {
        "id": "view-in-github",
        "colab_type": "text"
      },
      "source": [
        "<a href=\"https://colab.research.google.com/github/RahulkMathur/Advance_Data_Science_Course-Intellipaat-/blob/Self_Projects/Python_Sequencial_Assignments.ipynb\" target=\"_parent\"><img src=\"https://colab.research.google.com/assets/colab-badge.svg\" alt=\"Open In Colab\"/></a>"
      ]
    },
    {
      "cell_type": "code",
      "execution_count": 6,
      "metadata": {
        "id": "1RabccmcuaRi"
      },
      "outputs": [],
      "source": []
    },
    {
      "cell_type": "code",
      "source": [
        "# Assignment 1 - Tasks To Be Performed:\n",
        "\n",
        "#1. Input the values of a and b as 10 and 20 respectively. Now check if a is greater or b is greater using if condition. Think about all the edge cases, and\n",
        "# print the statements accordingly.\n",
        "\n",
        "a = 10\n",
        "b = 20\n",
        "\n",
        "if a > b:\n",
        "  print(\"a is greater than b.\")\n",
        "elif a < b :\n",
        "  print(\"a is a greater than b.\")\n",
        "else :\n",
        "  print(\"a is equal to b.\")"
      ],
      "metadata": {
        "colab": {
          "base_uri": "https://localhost:8080/"
        },
        "id": "aU9g0pSeuu_o",
        "outputId": "b44e6821-a659-4c2a-9f21-fb0fa46fa866"
      },
      "execution_count": 7,
      "outputs": [
        {
          "output_type": "stream",
          "name": "stdout",
          "text": [
            "a is a greater than b.\n"
          ]
        }
      ]
    },
    {
      "cell_type": "code",
      "source": [
        "# Module 1: Conditional Statements Assignment\n",
        "#Q.- 1. Take three user inputs and print the greatest number from those inputs using if-else condition. Edge cases, if any, should also be handled.\n",
        "\n",
        "a = int(input(\"First Number\"))\n",
        "b = int(input(\"Second Number\"))\n",
        "c = int(input(\"Third Number\"))\n",
        "\n",
        "if a >= b and a>=c :\n",
        "  print(\"'a' is the greatest among three numbers\")\n",
        "\n",
        "elif b>=a and b>=c:\n",
        "  print(\"'b' is the greatest among three numbers\")\n",
        "\n",
        "else:\n",
        "  print(\"'c' is the greatest among three numbers\")"
      ],
      "metadata": {
        "colab": {
          "base_uri": "https://localhost:8080/"
        },
        "id": "99tPWo0QwwQd",
        "outputId": "7b826d11-05f1-47ed-9c6e-b07b63ff4a39"
      },
      "execution_count": 6,
      "outputs": [
        {
          "output_type": "stream",
          "name": "stdout",
          "text": [
            "First Number10\n",
            "Second Number23\n",
            "Third Number22\n",
            "'b' is the greatest among three numbers\n"
          ]
        }
      ]
    },
    {
      "cell_type": "code",
      "source": [
        "# Module 1: Loops Assignment - 1\n",
        "#Print the numbers from 1 to 10 using while loop.\n"
      ],
      "metadata": {
        "id": "h3m8fQz70fHU"
      },
      "execution_count": null,
      "outputs": []
    }
  ]
}